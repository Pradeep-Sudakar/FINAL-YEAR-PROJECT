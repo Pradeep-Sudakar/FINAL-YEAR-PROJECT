{
  "cells": [
    {
      "cell_type": "markdown",
      "metadata": {
        "id": "UhG5CzHQWNzr"
      },
      "source": [
        "# Demo for stable-diffusion-pytorch"
      ]
    },
    {
      "cell_type": "markdown",
      "metadata": {
        "id": "iDI2dKfRWTId"
      },
      "source": [
        "## Install (takes about 1~5 minutes)"
      ]
    },
    {
      "cell_type": "code",
      "execution_count": 1,
      "metadata": {
        "id": "AgkJdPCbVjf6"
      },
      "outputs": [
        {
          "name": "stdout",
          "output_type": "stream",
          "text": [
            "[WinError 2] The system cannot find the file specified: '/content'\n",
            "d:\\Pradeep\\8th sem\\PROJECT\\stable-diffusion-pytorch\n"
          ]
        },
        {
          "name": "stderr",
          "output_type": "stream",
          "text": [
            "Cloning into 'stable-diffusion-pytorch'...\n"
          ]
        }
      ],
      "source": [
        "%cd /content\n",
        "!git clone https://github.com/kjsman/stable-diffusion-pytorch"
      ]
    },
    {
      "cell_type": "code",
      "execution_count": 2,
      "metadata": {
        "id": "uUsTYf-6BZGs"
      },
      "outputs": [
        {
          "name": "stdout",
          "output_type": "stream",
          "text": [
            "[WinError 3] The system cannot find the path specified: '/content/stable-diffusion-pytorch'\n",
            "d:\\Pradeep\\8th sem\\PROJECT\\stable-diffusion-pytorch\n",
            "Requirement already satisfied: torch>=1.9 in c:\\python310\\lib\\site-packages (from -r requirements.txt (line 1)) (2.3.0)\n",
            "Requirement already satisfied: numpy in c:\\python310\\lib\\site-packages (from -r requirements.txt (line 2)) (1.23.5)\n",
            "Requirement already satisfied: Pillow in c:\\python310\\lib\\site-packages (from -r requirements.txt (line 3)) (9.5.0)\n",
            "Requirement already satisfied: regex in c:\\python310\\lib\\site-packages (from -r requirements.txt (line 4)) (2023.10.3)\n",
            "Requirement already satisfied: tqdm in c:\\python310\\lib\\site-packages (from -r requirements.txt (line 5)) (4.66.1)\n",
            "Requirement already satisfied: filelock in c:\\python310\\lib\\site-packages (from torch>=1.9->-r requirements.txt (line 1)) (3.13.1)\n",
            "Requirement already satisfied: typing-extensions>=4.8.0 in c:\\python310\\lib\\site-packages (from torch>=1.9->-r requirements.txt (line 1)) (4.8.0)\n",
            "Requirement already satisfied: sympy in c:\\python310\\lib\\site-packages (from torch>=1.9->-r requirements.txt (line 1)) (1.12)\n",
            "Requirement already satisfied: networkx in c:\\python310\\lib\\site-packages (from torch>=1.9->-r requirements.txt (line 1)) (3.2.1)\n",
            "Requirement already satisfied: jinja2 in c:\\python310\\lib\\site-packages (from torch>=1.9->-r requirements.txt (line 1)) (3.1.2)\n",
            "Requirement already satisfied: fsspec in c:\\python310\\lib\\site-packages (from torch>=1.9->-r requirements.txt (line 1)) (2023.10.0)\n",
            "Requirement already satisfied: mkl<=2021.4.0,>=2021.1.1 in c:\\users\\pradeep\\appdata\\roaming\\python\\python310\\site-packages (from torch>=1.9->-r requirements.txt (line 1)) (2021.4.0)\n",
            "Requirement already satisfied: colorama in c:\\python310\\lib\\site-packages (from tqdm->-r requirements.txt (line 5)) (0.4.6)\n",
            "Requirement already satisfied: intel-openmp==2021.* in c:\\users\\pradeep\\appdata\\roaming\\python\\python310\\site-packages (from mkl<=2021.4.0,>=2021.1.1->torch>=1.9->-r requirements.txt (line 1)) (2021.4.0)\n",
            "Requirement already satisfied: tbb==2021.* in c:\\python310\\lib\\site-packages (from mkl<=2021.4.0,>=2021.1.1->torch>=1.9->-r requirements.txt (line 1)) (2021.12.0)\n",
            "Requirement already satisfied: MarkupSafe>=2.0 in c:\\python310\\lib\\site-packages (from jinja2->torch>=1.9->-r requirements.txt (line 1)) (2.1.2)\n",
            "Requirement already satisfied: mpmath>=0.19 in c:\\python310\\lib\\site-packages (from sympy->torch>=1.9->-r requirements.txt (line 1)) (1.3.0)\n",
            "Note: you may need to restart the kernel to use updated packages.\n"
          ]
        },
        {
          "name": "stderr",
          "output_type": "stream",
          "text": [
            "WARNING: Ignoring invalid distribution -ip (c:\\python310\\lib\\site-packages)\n",
            "WARNING: Ignoring invalid distribution -ltk (c:\\python310\\lib\\site-packages)\n",
            "WARNING: Ignoring invalid distribution -orch (c:\\python310\\lib\\site-packages)\n",
            "WARNING: Ignoring invalid distribution -ip (c:\\python310\\lib\\site-packages)\n",
            "WARNING: Ignoring invalid distribution -ltk (c:\\python310\\lib\\site-packages)\n",
            "WARNING: Ignoring invalid distribution -orch (c:\\python310\\lib\\site-packages)\n"
          ]
        }
      ],
      "source": [
        "# Note that all depencdencies of stable-diffusion-pytorch is pre-installed\n",
        "# on Colab environment. This cell basically does nothing on Colab.\n",
        "%cd /content/stable-diffusion-pytorch\n",
        "%pip install -r requirements.txt"
      ]
    },
    {
      "cell_type": "code",
      "execution_count": 4,
      "metadata": {
        "id": "NXnKKOxcMsin"
      },
      "outputs": [
        {
          "name": "stdout",
          "output_type": "stream",
          "text": [
            "[WinError 3] The system cannot find the path specified: '/content/stable-diffusion-pytorch'\n",
            "d:\\Pradeep\\8th sem\\PROJECT\\stable-diffusion-pytorch\n"
          ]
        },
        {
          "name": "stderr",
          "output_type": "stream",
          "text": [
            "'wget' is not recognized as an internal or external command,\n",
            "operable program or batch file.\n",
            "tar: Error opening archive: Failed to open 'data.v20221029.tar'\n"
          ]
        }
      ],
      "source": [
        "%cd /content/stable-diffusion-pytorch\n",
        "!wget https://huggingface.co/jinseokim/stable-diffusion-pytorch-data/resolve/main/data.v20221029.tar\n",
        "!tar -xf data.v20221029.tar"
      ]
    },
    {
      "cell_type": "markdown",
      "metadata": {
        "id": "UyM8vbLnWVNP"
      },
      "source": [
        "## Run"
      ]
    },
    {
      "cell_type": "code",
      "execution_count": 5,
      "metadata": {
        "cellView": "form",
        "id": "fGOopQsDS-7U"
      },
      "outputs": [
        {
          "ename": "OSError",
          "evalue": "[WinError 126] The specified module could not be found. Error loading \"c:\\Python310\\lib\\site-packages\\torch\\lib\\shm.dll\" or one of its dependencies.",
          "output_type": "error",
          "traceback": [
            "\u001b[1;31m---------------------------------------------------------------------------\u001b[0m",
            "\u001b[1;31mOSError\u001b[0m                                   Traceback (most recent call last)",
            "Cell \u001b[1;32mIn[5], line 3\u001b[0m\n\u001b[0;32m      1\u001b[0m \u001b[38;5;66;03m#@title Preload models (takes about ~20 seconds on default settings)\u001b[39;00m\n\u001b[1;32m----> 3\u001b[0m \u001b[38;5;28;01mfrom\u001b[39;00m \u001b[38;5;21;01mstable_diffusion_pytorch\u001b[39;00m \u001b[38;5;28;01mimport\u001b[39;00m model_loader\n\u001b[0;32m      4\u001b[0m models \u001b[38;5;241m=\u001b[39m model_loader\u001b[38;5;241m.\u001b[39mpreload_models(\u001b[38;5;124m'\u001b[39m\u001b[38;5;124mcpu\u001b[39m\u001b[38;5;124m'\u001b[39m)\n",
            "File \u001b[1;32md:\\Pradeep\\8th sem\\PROJECT\\stable-diffusion-pytorch\\stable_diffusion_pytorch\\__init__.py:1\u001b[0m\n\u001b[1;32m----> 1\u001b[0m \u001b[38;5;28;01mfrom\u001b[39;00m \u001b[38;5;21;01m.\u001b[39;00m\u001b[38;5;21;01mtokenizer\u001b[39;00m \u001b[38;5;28;01mimport\u001b[39;00m Tokenizer\n\u001b[0;32m      2\u001b[0m \u001b[38;5;28;01mfrom\u001b[39;00m \u001b[38;5;21;01m.\u001b[39;00m\u001b[38;5;21;01mclip\u001b[39;00m \u001b[38;5;28;01mimport\u001b[39;00m CLIP\n\u001b[0;32m      3\u001b[0m \u001b[38;5;28;01mfrom\u001b[39;00m \u001b[38;5;21;01m.\u001b[39;00m\u001b[38;5;21;01mencoder\u001b[39;00m \u001b[38;5;28;01mimport\u001b[39;00m Encoder\n",
            "File \u001b[1;32md:\\Pradeep\\8th sem\\PROJECT\\stable-diffusion-pytorch\\stable_diffusion_pytorch\\tokenizer.py:7\u001b[0m\n\u001b[0;32m      5\u001b[0m \u001b[38;5;28;01mfrom\u001b[39;00m \u001b[38;5;21;01mtyping\u001b[39;00m \u001b[38;5;28;01mimport\u001b[39;00m List, Tuple\n\u001b[0;32m      6\u001b[0m \u001b[38;5;28;01mimport\u001b[39;00m \u001b[38;5;21;01mregex\u001b[39;00m \u001b[38;5;28;01mas\u001b[39;00m \u001b[38;5;21;01mre\u001b[39;00m\n\u001b[1;32m----> 7\u001b[0m \u001b[38;5;28;01mfrom\u001b[39;00m \u001b[38;5;21;01m.\u001b[39;00m \u001b[38;5;28;01mimport\u001b[39;00m util\n\u001b[0;32m     10\u001b[0m \u001b[38;5;28;01mdef\u001b[39;00m \u001b[38;5;21mcreate_bytes_table\u001b[39m() \u001b[38;5;241m-\u001b[39m\u001b[38;5;241m>\u001b[39m \u001b[38;5;28mdict\u001b[39m:\n\u001b[0;32m     11\u001b[0m     table \u001b[38;5;241m=\u001b[39m {}\n",
            "File \u001b[1;32md:\\Pradeep\\8th sem\\PROJECT\\stable-diffusion-pytorch\\stable_diffusion_pytorch\\util.py:1\u001b[0m\n\u001b[1;32m----> 1\u001b[0m \u001b[38;5;28;01mimport\u001b[39;00m \u001b[38;5;21;01mtorch\u001b[39;00m\n\u001b[0;32m      2\u001b[0m \u001b[38;5;28;01mimport\u001b[39;00m \u001b[38;5;21;01mnumpy\u001b[39;00m \u001b[38;5;28;01mas\u001b[39;00m \u001b[38;5;21;01mnp\u001b[39;00m\n\u001b[0;32m      3\u001b[0m \u001b[38;5;28;01mimport\u001b[39;00m \u001b[38;5;21;01mos\u001b[39;00m\n",
            "File \u001b[1;32mc:\\Python310\\lib\\site-packages\\torch\\__init__.py:141\u001b[0m\n\u001b[0;32m    139\u001b[0m                 err \u001b[38;5;241m=\u001b[39m ctypes\u001b[38;5;241m.\u001b[39mWinError(ctypes\u001b[38;5;241m.\u001b[39mget_last_error())\n\u001b[0;32m    140\u001b[0m                 err\u001b[38;5;241m.\u001b[39mstrerror \u001b[38;5;241m+\u001b[39m\u001b[38;5;241m=\u001b[39m \u001b[38;5;124mf\u001b[39m\u001b[38;5;124m'\u001b[39m\u001b[38;5;124m Error loading \u001b[39m\u001b[38;5;124m\"\u001b[39m\u001b[38;5;132;01m{\u001b[39;00mdll\u001b[38;5;132;01m}\u001b[39;00m\u001b[38;5;124m\"\u001b[39m\u001b[38;5;124m or one of its dependencies.\u001b[39m\u001b[38;5;124m'\u001b[39m\n\u001b[1;32m--> 141\u001b[0m                 \u001b[38;5;28;01mraise\u001b[39;00m err\n\u001b[0;32m    143\u001b[0m     kernel32\u001b[38;5;241m.\u001b[39mSetErrorMode(prev_error_mode)\n\u001b[0;32m    146\u001b[0m \u001b[38;5;28;01mdef\u001b[39;00m \u001b[38;5;21m_preload_cuda_deps\u001b[39m(lib_folder, lib_name):\n",
            "\u001b[1;31mOSError\u001b[0m: [WinError 126] The specified module could not be found. Error loading \"c:\\Python310\\lib\\site-packages\\torch\\lib\\shm.dll\" or one of its dependencies."
          ]
        }
      ],
      "source": [
        "#@title Preload models (takes about ~20 seconds on default settings)\n",
        "\n",
        "from stable_diffusion_pytorch import model_loader\n",
        "models = model_loader.preload_models('cpu')"
      ]
    },
    {
      "cell_type": "code",
      "execution_count": null,
      "metadata": {
        "cellView": "form",
        "id": "x_dhQfFYXoPu"
      },
      "outputs": [],
      "source": [
        "#@title Inference (takes about 30~40 seconds on default settings)\n",
        "\n",
        "from stable_diffusion_pytorch import pipeline\n",
        "\n",
        "prompt = \"a photograph of an astronaut riding a horse\"  #@param { type: \"string\" }\n",
        "prompts = [prompt]\n",
        "\n",
        "uncond_prompt = \"\"  #@param { type: \"string\" }\n",
        "uncond_prompts = [uncond_prompt] if uncond_prompt else None\n",
        "\n",
        "upload_input_image = False  #@param { type: \"boolean\" }\n",
        "input_images = None\n",
        "if upload_input_image:\n",
        "    from PIL import Image\n",
        "    from google.colab import files\n",
        "    print(\"Upload an input image:\")\n",
        "    path = list(files.upload().keys())[0]\n",
        "    input_images = [Image.open(path)]\n",
        "\n",
        "strength = 0.8  #@param { type:\"slider\", min: 0, max: 1, step: 0.01 }\n",
        "\n",
        "do_cfg = True  #@param { type: \"boolean\" }\n",
        "cfg_scale = 7.5  #@param { type:\"slider\", min: 1, max: 14, step: 0.5 }\n",
        "height = 512  #@param { type: \"integer\" }\n",
        "width = 512  #@param { type: \"integer\" }\n",
        "sampler = \"k_lms\"  #@param [\"k_lms\", \"k_euler\", \"k_euler_ancestral\"]\n",
        "n_inference_steps = 50  #@param { type: \"integer\" }\n",
        "\n",
        "use_seed = False  #@param { type: \"boolean\" }\n",
        "if use_seed:\n",
        "    seed = 42  #@param { type: \"integer\" }\n",
        "else:\n",
        "    seed = None\n",
        "\n",
        "pipeline.generate(prompts=prompts, uncond_prompts=uncond_prompts,\n",
        "                  input_images=input_images, strength=strength,\n",
        "                  do_cfg=do_cfg, cfg_scale=cfg_scale,\n",
        "                  height=height, width=width, sampler=sampler,\n",
        "                  n_inference_steps=n_inference_steps, seed=seed,\n",
        "                  models=models, device='cuda', idle_device='cpu')[0]"
      ]
    }
  ],
  "metadata": {
    "accelerator": "GPU",
    "colab": {
      "collapsed_sections": [
        "iDI2dKfRWTId"
      ],
      "provenance": []
    },
    "gpuClass": "standard",
    "kernelspec": {
      "display_name": "Python 3",
      "name": "python3"
    },
    "language_info": {
      "codemirror_mode": {
        "name": "ipython",
        "version": 3
      },
      "file_extension": ".py",
      "mimetype": "text/x-python",
      "name": "python",
      "nbconvert_exporter": "python",
      "pygments_lexer": "ipython3",
      "version": "3.10.8"
    }
  },
  "nbformat": 4,
  "nbformat_minor": 0
}
